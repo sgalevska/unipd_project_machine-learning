{
  "nbformat": 4,
  "nbformat_minor": 0,
  "metadata": {
    "colab": {
      "name": "Copia di S&R DisasterTweets.ipynb",
      "provenance": [],
      "collapsed_sections": []
    },
    "kernelspec": {
      "name": "python3",
      "display_name": "Python 3"
    },
    "language_info": {
      "name": "python"
    }
  },
  "cells": [
    {
      "cell_type": "code",
      "metadata": {
        "id": "490C2OoPs4PX"
      },
      "source": [
        "import numpy as np\n",
        "import pandas as pd \n",
        "import seaborn as sns\n",
        "import matplotlib.pyplot as plt\n",
        "import re\n",
        "import string\n",
        "import tensorflow \n",
        "import nltk\n",
        "\n",
        "from tensorflow.keras.models import Sequential \n",
        "from tensorflow.keras.layers import Input, Dense \n",
        "from tensorflow.keras.utils import to_categorical \n",
        "from tensorflow.python.framework.random_seed import set_random_seed\n",
        "\n",
        "from keras.utils.vis_utils import plot_model\n",
        "from keras.callbacks import EarlyStopping \n",
        "from keras.callbacks import EarlyStopping \n",
        "\n",
        "from sklearn.feature_extraction.text import CountVectorizer\n",
        "from sklearn.preprocessing import StandardScaler \n",
        "from sklearn.metrics import f1_score\n",
        "from sklearn.svm import SVC\n",
        "from sklearn.model_selection import GridSearchCV\n",
        "from sklearn.linear_model import LogisticRegression\n",
        "from sklearn.ensemble import RandomForestClassifier\n",
        "from sklearn.metrics import accuracy_score\n",
        "from sklearn.preprocessing import MaxAbsScaler\n",
        "from sklearn.model_selection import train_test_split\n",
        "from sklearn.metrics import confusion_matrix, ConfusionMatrixDisplay\n",
        "\n",
        "from nltk.corpus import stopwords\n",
        "\n",
        "data_url = 'https://www.math.unipd.it/~dasan/disaster/'\n",
        "train_csv = pd.read_csv(data_url + 'train.csv', sep=\",\") \n",
        "test_csv = pd.read_csv(data_url + 'test.csv', sep=\",\") \n",
        "\n"
      ],
      "execution_count": null,
      "outputs": []
    },
    {
      "cell_type": "code",
      "source": [
        "def download_predictions_to_file(id_array, predictions_array):\n",
        "  # This function, given a numpy array with the ids of the test tweets and a numpy array with the corresponding predictions, \n",
        "  # creates and let's you download a prediction file suitable to be uploaded to the Kaggle website\n",
        "\n",
        "  id_array = id_array.reshape(len(id_array),1) # making sure the arrays are of the size requested by hstack(), i.e. (x,1) instead of (x,) \n",
        "  predictions_array = predictions_array.reshape(len(predictions_array),1)\n",
        "\n",
        "  from google.colab import files\n",
        "  result = pd.DataFrame(np.hstack((id_array, predictions_array)), columns=['id','target'])\n",
        "  result.to_csv('prediction_file.csv', index=False)\n",
        "  files.download('prediction_file.csv')\n",
        "\n",
        "X_test_id = test_csv[\"id\"].values\n"
      ],
      "metadata": {
        "id": "B4ilhSX4XoON"
      },
      "execution_count": null,
      "outputs": []
    },
    {
      "cell_type": "code",
      "source": [
        "#let's take a look at the data\n",
        "print(train_csv.head())\n",
        "print(test_csv.head())\n",
        "\n",
        "#we have 5 features: id, keyword, location, text, target\n",
        "print(train_csv.columns)\n",
        "print()\n",
        "\n",
        "#let's see if we have missing values\n",
        "print(train_csv.isnull().sum())\n",
        "print()\n",
        "print(test_csv.isnull().sum())"
      ],
      "metadata": {
        "colab": {
          "base_uri": "https://localhost:8080/"
        },
        "id": "ncvoxHehGLCR",
        "outputId": "55033797-c8fc-4a3c-d31d-5dd9ef246b2d"
      },
      "execution_count": null,
      "outputs": [
        {
          "output_type": "stream",
          "name": "stdout",
          "text": [
            "   id keyword  ...                                               text target\n",
            "0   1     NaN  ...  Our Deeds are the Reason of this #earthquake M...      1\n",
            "1   4     NaN  ...             Forest fire near La Ronge Sask. Canada      1\n",
            "2   5     NaN  ...  All residents asked to 'shelter in place' are ...      1\n",
            "3   6     NaN  ...  13,000 people receive #wildfires evacuation or...      1\n",
            "4   7     NaN  ...  Just got sent this photo from Ruby #Alaska as ...      1\n",
            "\n",
            "[5 rows x 5 columns]\n",
            "   id keyword location                                               text\n",
            "0   0     NaN      NaN                 Just happened a terrible car crash\n",
            "1   2     NaN      NaN  Heard about #earthquake is different cities, s...\n",
            "2   3     NaN      NaN  there is a forest fire at spot pond, geese are...\n",
            "3   9     NaN      NaN           Apocalypse lighting. #Spokane #wildfires\n",
            "4  11     NaN      NaN      Typhoon Soudelor kills 28 in China and Taiwan\n",
            "Index(['id', 'keyword', 'location', 'text', 'target'], dtype='object')\n",
            "\n",
            "id             0\n",
            "keyword       61\n",
            "location    2533\n",
            "text           0\n",
            "target         0\n",
            "dtype: int64\n",
            "\n",
            "id             0\n",
            "keyword       26\n",
            "location    1105\n",
            "text           0\n",
            "dtype: int64\n"
          ]
        }
      ]
    },
    {
      "cell_type": "code",
      "source": [
        "#we discard id, location and keyword columns\n",
        "Y_train = train_csv.filter(['target'], axis = 1)\n",
        "X_train = train_csv.filter(['text'], axis=1)\n",
        "print(X_train.head())\n",
        "print()\n",
        "\n",
        "X_test = test_csv.filter(['text'], axis=1)\n",
        "print(X_test.head())"
      ],
      "metadata": {
        "colab": {
          "base_uri": "https://localhost:8080/"
        },
        "id": "oDCaLl4DgC60",
        "outputId": "8312cc17-13a2-4a7f-e30c-d63b916ea6f9"
      },
      "execution_count": null,
      "outputs": [
        {
          "output_type": "stream",
          "name": "stdout",
          "text": [
            "                                                text\n",
            "0  Our Deeds are the Reason of this #earthquake M...\n",
            "1             Forest fire near La Ronge Sask. Canada\n",
            "2  All residents asked to 'shelter in place' are ...\n",
            "3  13,000 people receive #wildfires evacuation or...\n",
            "4  Just got sent this photo from Ruby #Alaska as ...\n",
            "\n",
            "                                                text\n",
            "0                 Just happened a terrible car crash\n",
            "1  Heard about #earthquake is different cities, s...\n",
            "2  there is a forest fire at spot pond, geese are...\n",
            "3           Apocalypse lighting. #Spokane #wildfires\n",
            "4      Typhoon Soudelor kills 28 in China and Taiwan\n"
          ]
        }
      ]
    },
    {
      "cell_type": "code",
      "source": [
        "# counting the number of positive and negative tweets\n",
        "sns.set(style=\"whitegrid\", color_codes=True)\n",
        "sns.catplot(\"target\", data=train_csv, kind=\"count\", height=8)\n",
        "plt.title(\"Distribution of Target Counts\", size=20, weight=\"bold\")\n",
        "plt.xlabel(\"Target Label\", size=14, weight=\"bold\")\n",
        "plt.ylabel(\"Counts\", size=14, weight=\"bold\")\n",
        "plt.show()"
      ],
      "metadata": {
        "colab": {
          "base_uri": "https://localhost:8080/",
          "height": 658
        },
        "id": "Z59FMBUxzdk1",
        "outputId": "282561b8-3836-4635-8d0b-12fdd9844b95"
      },
      "execution_count": null,
      "outputs": [
        {
          "output_type": "stream",
          "name": "stderr",
          "text": [
            "/usr/local/lib/python3.7/dist-packages/seaborn/_decorators.py:43: FutureWarning: Pass the following variable as a keyword arg: x. From version 0.12, the only valid positional argument will be `data`, and passing other arguments without an explicit keyword will result in an error or misinterpretation.\n",
            "  FutureWarning\n"
          ]
        },
        {
          "output_type": "display_data",
          "data": {
            "image/png": "[encoded data removed]",
            "text/plain": [
              "<Figure size 576x576 with 1 Axes>"
            ]
          },
          "metadata": {}
        }
      ]
    },
    {
      "cell_type": "code",
      "source": [
        "#Clean the text\n",
        "\n",
        "def remove_URL(text):\n",
        "    url = re.compile(r'https?://\\S+|www\\.\\S+')\n",
        "    return url.sub(r'', text)\n",
        "\n",
        "\n",
        "def remove_emoji(text):\n",
        "    emoji_pattern = re.compile(\n",
        "        '['\n",
        "        u'\\U0001F600-\\U0001F64F'  # emoticons\n",
        "        u'\\U0001F300-\\U0001F5FF'  # symbols & pictographs\n",
        "        u'\\U0001F680-\\U0001F6FF'  # transport & map symbols\n",
        "        u'\\U0001F1E0-\\U0001F1FF'  # flags (iOS)\n",
        "        u'\\U00002702-\\U000027B0'\n",
        "        u'\\U000024C2-\\U0001F251'\n",
        "        ']+',\n",
        "        flags=re.UNICODE)\n",
        "    return emoji_pattern.sub(r'', text)\n",
        "\n",
        "\n",
        "def remove_html(text):\n",
        "    html = re.compile(r'<.*?>|&([a-z0-9]+|#[0-9]{1,6}|#x[0-9a-f]{1,6});')\n",
        "    return re.sub(html, '', text)\n",
        "\n",
        "\n",
        "def remove_punct(text):\n",
        "    table = str.maketrans('', '', string.punctuation)\n",
        "    return text.translate(table)\n",
        "\n",
        "\n",
        "def lower_text(text):\n",
        "    return text.lower()\n",
        "\n",
        "# Applying helper functions\n",
        "X_train['text'] = X_train['text'].apply(lambda x: remove_URL(x))\n",
        "X_train['text'] = X_train['text'].apply(lambda x: remove_emoji(x))\n",
        "X_train['text'] = X_train['text'].apply(lambda x: remove_html(x))\n",
        "X_train['text'] = X_train['text'].apply(lambda x: remove_punct(x))\n",
        "X_train['text'] = X_train['text'].apply(lambda x: lower_text(x))\n",
        "X_train['text'] = X_train['text'].apply(lambda x:re.sub('\\w*\\d\\w*' , '', x) ) #remove words containing numbers\n",
        "\n",
        "X_test['text'] = X_test['text'].apply(lambda x: remove_URL(x))\n",
        "X_test['text'] = X_test['text'].apply(lambda x: remove_emoji(x))\n",
        "X_test['text'] = X_test['text'].apply(lambda x: remove_html(x))\n",
        "X_test['text'] = X_test['text'].apply(lambda x: remove_punct(x))\n",
        "X_test['text'] = X_test['text'].apply(lambda x: lower_text(x))\n",
        "X_test['text'] = X_test['text'].apply(lambda x:re.sub('\\w*\\d\\w*', '', x) )\n",
        "\n",
        "print(X_train.head())\n",
        "print()\n",
        "print(X_test.head())"
      ],
      "metadata": {
        "id": "4JY0XtFL2ss3",
        "colab": {
          "base_uri": "https://localhost:8080/"
        },
        "outputId": "b9b64c3d-381c-429c-9555-6b62dc880f34"
      },
      "execution_count": null,
      "outputs": [
        {
          "output_type": "stream",
          "name": "stdout",
          "text": [
            "                                                text\n",
            "0  our deeds are the reason of this earthquake ma...\n",
            "1              forest fire near la ronge sask canada\n",
            "2  all residents asked to shelter in place are be...\n",
            "3   people receive wildfires evacuation orders in...\n",
            "4  just got sent this photo from ruby alaska as s...\n",
            "\n",
            "                                                text\n",
            "0                 just happened a terrible car crash\n",
            "1  heard about earthquake is different cities sta...\n",
            "2  there is a forest fire at spot pond geese are ...\n",
            "3              apocalypse lighting spokane wildfires\n",
            "4        typhoon soudelor kills  in china and taiwan\n"
          ]
        }
      ]
    },
    {
      "cell_type": "code",
      "source": [
        "#Tokenizer\n",
        "token=nltk.tokenize.RegexpTokenizer(r'\\w+')\n",
        "#applying token\n",
        "X_train['text'] = X_train['text'].apply(lambda x:token.tokenize(x))\n",
        "X_test['text'] = X_test['text'].apply(lambda x:token.tokenize(x))\n",
        "#view\n",
        "print(X_train['text'].head())\n",
        "print()\n",
        "print(X_test['text'].head())\n",
        "\n"
      ],
      "metadata": {
        "colab": {
          "base_uri": "https://localhost:8080/"
        },
        "id": "xr_UtkNRnty9",
        "outputId": "94cf8ebd-34c6-4bc4-8c7d-7e607c001abe"
      },
      "execution_count": null,
      "outputs": [
        {
          "output_type": "stream",
          "name": "stdout",
          "text": [
            "0    [our, deeds, are, the, reason, of, this, earth...\n",
            "1        [forest, fire, near, la, ronge, sask, canada]\n",
            "2    [all, residents, asked, to, shelter, in, place...\n",
            "3    [people, receive, wildfires, evacuation, order...\n",
            "4    [just, got, sent, this, photo, from, ruby, ala...\n",
            "Name: text, dtype: object\n",
            "\n",
            "0            [just, happened, a, terrible, car, crash]\n",
            "1    [heard, about, earthquake, is, different, citi...\n",
            "2    [there, is, a, forest, fire, at, spot, pond, g...\n",
            "3           [apocalypse, lighting, spokane, wildfires]\n",
            "4    [typhoon, soudelor, kills, in, china, and, tai...\n",
            "Name: text, dtype: object\n"
          ]
        }
      ]
    },
    {
      "cell_type": "code",
      "source": [
        "nltk.download('stopwords')\n",
        "#removing stop words\n",
        "X_train['text'] = X_train['text'].apply(lambda x:[w for w in x if w not in stopwords.words('english')])\n",
        "X_test['text'] = X_test['text'].apply(lambda x:[w for w in x if w not in stopwords.words('english')])\n",
        "#view\n",
        "print(X_train['text'].head())\n",
        "print()\n",
        "print(X_test['text'].head())\n"
      ],
      "metadata": {
        "colab": {
          "base_uri": "https://localhost:8080/"
        },
        "id": "nEJxVqtBr58x",
        "outputId": "414742d2-c52c-490b-ab99-fd2aa7de0630"
      },
      "execution_count": null,
      "outputs": [
        {
          "output_type": "stream",
          "name": "stdout",
          "text": [
            "[nltk_data] Downloading package stopwords to /root/nltk_data...\n",
            "[nltk_data]   Package stopwords is already up-to-date!\n",
            "0    [deeds, reason, earthquake, may, allah, forgiv...\n",
            "1        [forest, fire, near, la, ronge, sask, canada]\n",
            "2    [residents, asked, shelter, place, notified, o...\n",
            "3    [people, receive, wildfires, evacuation, order...\n",
            "4    [got, sent, photo, ruby, alaska, smoke, wildfi...\n",
            "Name: text, dtype: object\n",
            "\n",
            "0                     [happened, terrible, car, crash]\n",
            "1    [heard, earthquake, different, cities, stay, s...\n",
            "2    [forest, fire, spot, pond, geese, fleeing, acr...\n",
            "3           [apocalypse, lighting, spokane, wildfires]\n",
            "4            [typhoon, soudelor, kills, china, taiwan]\n",
            "Name: text, dtype: object\n"
          ]
        }
      ]
    },
    {
      "cell_type": "code",
      "source": [
        "#stemmering the text and joining\n",
        "stemmer = nltk.stem.PorterStemmer()\n",
        "X_train['text'] = X_train['text'].apply(lambda x:\" \".join(stemmer.stem(token) for token in x))\n",
        "X_test['text'] = X_test['text'].apply(lambda x:\" \".join(stemmer.stem(token) for token in x))\n",
        "#View\n",
        "print(X_train['text'].head())\n",
        "print()\n",
        "print(X_test['text'].head())\n",
        "print(X_test.shape)"
      ],
      "metadata": {
        "colab": {
          "base_uri": "https://localhost:8080/"
        },
        "id": "ROlxreGFr6HC",
        "outputId": "15ef7a25-89a5-4b33-d7ce-e7920ba97a69"
      },
      "execution_count": null,
      "outputs": [
        {
          "output_type": "stream",
          "name": "stdout",
          "text": [
            "0            deed reason earthquak may allah forgiv us\n",
            "1                 forest fire near la rong sask canada\n",
            "2    resid ask shelter place notifi offic evacu she...\n",
            "3          peopl receiv wildfir evacu order california\n",
            "4    got sent photo rubi alaska smoke wildfir pour ...\n",
            "Name: text, dtype: object\n",
            "\n",
            "0                             happen terribl car crash\n",
            "1        heard earthquak differ citi stay safe everyon\n",
            "2    forest fire spot pond gees flee across street ...\n",
            "3                       apocalyps light spokan wildfir\n",
            "4                   typhoon soudelor kill china taiwan\n",
            "Name: text, dtype: object\n",
            "(3263, 1)\n"
          ]
        }
      ]
    },
    {
      "cell_type": "code",
      "source": [
        "count_vectorizer = CountVectorizer(max_features=2000, max_df=0.90)\n",
        "X_train_val_count = count_vectorizer.fit_transform(X_train['text']) \n",
        "X_test_count = count_vectorizer.transform(X_test[\"text\"])\n",
        "\n",
        "print(\"vocabulary size:\", len(count_vectorizer.vocabulary_))\n",
        "print(X_train_val_count.shape)\n"
      ],
      "metadata": {
        "colab": {
          "base_uri": "https://localhost:8080/"
        },
        "id": "cML-SNI5tAxm",
        "outputId": "39e5ed22-ff0c-4b83-e7d0-ce089db75fd5"
      },
      "execution_count": null,
      "outputs": [
        {
          "output_type": "stream",
          "name": "stdout",
          "text": [
            "vocabulary size: 2000\n",
            "(7613, 2000)\n"
          ]
        }
      ]
    },
    {
      "cell_type": "code",
      "metadata": {
        "id": "2jFAkoG0deik"
      },
      "source": [
        "# Split the train+validation into 80% train and 20% validation subsets\n",
        "Y_train_val = Y_train\n",
        "x_train, x_val, y_train, y_val = train_test_split(X_train_val_count, Y_train_val, test_size=0.2, random_state= 123, stratify=Y_train_val)\n"
      ],
      "execution_count": null,
      "outputs": []
    },
    {
      "cell_type": "code",
      "source": [
        "#define the scaler\n",
        "scalerAbs = MaxAbsScaler()\n",
        "\n",
        "#fit the scaler\n",
        "scalerAbs.fit(x_train)\n",
        "\n",
        "X_train_sclabs = scalerAbs.transform(x_train)\n",
        "X_val_sclabs = scalerAbs.transform(x_val)\n",
        "X_test_sclabs = scalerAbs.transform(X_test_count) \n",
        "\n",
        "#target classifier\n",
        "lr = LogisticRegression(random_state=123)\n",
        "param_grid_test = {'C': [0.1, 0.5, 1],'fit_intercept': [True, False]}\n",
        "\n",
        "#grid-search object\n",
        "clf = GridSearchCV(estimator= lr, param_grid=param_grid_test, n_jobs=-1, cv = 5, scoring = \"f1\")\n",
        "\n",
        "clf.fit(X_train_sclabs, y_train.values.ravel()) #ravel() is to return a 1d array\n",
        "\n",
        "# #see the best parameters and performance\n",
        "print(f\"Best parameters for logistic regression are: {clf.best_params_}\\n\")\n",
        "\n",
        "y_train_lr = clf.predict(X_train_sclabs)\n",
        "print(f\"F1 score for this training set using best parameters: {f1_score(y_train, y_train_lr, average = 'macro')}\")\n",
        "y_val_lr = clf.predict(X_val_sclabs)\n",
        "f1_score_lr = f1_score(y_val, y_val_lr, average = 'macro')\n",
        "print(f\"F1 score for this validation set using best parameters: {f1_score_lr}\\n\") \n",
        "\n",
        "\n",
        "results_df = pd.DataFrame(clf.cv_results_)\n",
        "results_df = results_df.sort_values(by=[\"rank_test_score\"])\n",
        "results_df = results_df.set_index(results_df[\"params\"].apply(lambda x: \"_\".join(str(val) for val in x.values()))).rename_axis(\"kernel\")\n",
        "results_df[[\"params\", \"rank_test_score\", \"mean_test_score\", \"std_test_score\"]]"
      ],
      "metadata": {
        "id": "KguqRBEm7W5Q",
        "colab": {
          "base_uri": "https://localhost:8080/",
          "height": 356
        },
        "outputId": "1a845137-917f-42f1-adb9-4b83efc2460d"
      },
      "execution_count": null,
      "outputs": [
        {
          "output_type": "stream",
          "name": "stdout",
          "text": [
            "Best parameters for logistic regression are: {'C': 0.5, 'fit_intercept': False}\n",
            "\n",
            "F1 score for this training set using best parameters: 0.8560932313774154\n",
            "F1 score for this validation set using best parameters: 0.7621226526955092\n",
            "\n"
          ]
        },
        {
          "output_type": "execute_result",
          "data": {
            "text/html": [
              "\n",
              "  <div id=\"df-4ba40780-a4c4-48e6-8e6f-2b98634b4aa3\">\n",
              "    <div class=\"colab-df-container\">\n",
              "      <div>\n",
              "<style scoped>\n",
              "    .dataframe tbody tr th:only-of-type {\n",
              "        vertical-align: middle;\n",
              "    }\n",
              "\n",
              "    .dataframe tbody tr th {\n",
              "        vertical-align: top;\n",
              "    }\n",
              "\n",
              "    .dataframe thead th {\n",
              "        text-align: right;\n",
              "    }\n",
              "</style>\n",
              "<table border=\"1\" class=\"dataframe\">\n",
              "  <thead>\n",
              "    <tr style=\"text-align: right;\">\n",
              "      <th></th>\n",
              "      <th>params</th>\n",
              "      <th>rank_test_score</th>\n",
              "      <th>mean_test_score</th>\n",
              "      <th>std_test_score</th>\n",
              "    </tr>\n",
              "    <tr>\n",
              "      <th>kernel</th>\n",
              "      <th></th>\n",
              "      <th></th>\n",
              "      <th></th>\n",
              "      <th></th>\n",
              "    </tr>\n",
              "  </thead>\n",
              "  <tbody>\n",
              "    <tr>\n",
              "      <th>0.5_False</th>\n",
              "      <td>{'C': 0.5, 'fit_intercept': False}</td>\n",
              "      <td>1</td>\n",
              "      <td>0.744022</td>\n",
              "      <td>0.012294</td>\n",
              "    </tr>\n",
              "    <tr>\n",
              "      <th>0.1_False</th>\n",
              "      <td>{'C': 0.1, 'fit_intercept': False}</td>\n",
              "      <td>2</td>\n",
              "      <td>0.740089</td>\n",
              "      <td>0.015851</td>\n",
              "    </tr>\n",
              "    <tr>\n",
              "      <th>1_False</th>\n",
              "      <td>{'C': 1, 'fit_intercept': False}</td>\n",
              "      <td>3</td>\n",
              "      <td>0.735805</td>\n",
              "      <td>0.007898</td>\n",
              "    </tr>\n",
              "    <tr>\n",
              "      <th>0.5_True</th>\n",
              "      <td>{'C': 0.5, 'fit_intercept': True}</td>\n",
              "      <td>4</td>\n",
              "      <td>0.734376</td>\n",
              "      <td>0.008892</td>\n",
              "    </tr>\n",
              "    <tr>\n",
              "      <th>1_True</th>\n",
              "      <td>{'C': 1, 'fit_intercept': True}</td>\n",
              "      <td>5</td>\n",
              "      <td>0.734181</td>\n",
              "      <td>0.010425</td>\n",
              "    </tr>\n",
              "    <tr>\n",
              "      <th>0.1_True</th>\n",
              "      <td>{'C': 0.1, 'fit_intercept': True}</td>\n",
              "      <td>6</td>\n",
              "      <td>0.698063</td>\n",
              "      <td>0.018997</td>\n",
              "    </tr>\n",
              "  </tbody>\n",
              "</table>\n",
              "</div>\n",
              "      <button class=\"colab-df-convert\" onclick=\"convertToInteractive('df-4ba40780-a4c4-48e6-8e6f-2b98634b4aa3')\"\n",
              "              title=\"Convert this dataframe to an interactive table.\"\n",
              "              style=\"display:none;\">\n",
              "        \n",
              "  <svg xmlns=\"http://www.w3.org/2000/svg\" height=\"24px\"viewBox=\"0 0 24 24\"\n",
              "       width=\"24px\">\n",
              "    <path d=\"M0 0h24v24H0V0z\" fill=\"none\"/>\n",
              "    <path d=\"M18.56 5.44l.94 2.06.94-2.06 2.06-.94-2.06-.94-.94-2.06-.94 2.06-2.06.94zm-11 1L8.5 8.5l.94-2.06 2.06-.94-2.06-.94L8.5 2.5l-.94 2.06-2.06.94zm10 10l.94 2.06.94-2.06 2.06-.94-2.06-.94-.94-2.06-.94 2.06-2.06.94z\"/><path d=\"M17.41 7.96l-1.37-1.37c-.4-.4-.92-.59-1.43-.59-.52 0-1.04.2-1.43.59L10.3 9.45l-7.72 7.72c-.78.78-.78 2.05 0 2.83L4 21.41c.39.39.9.59 1.41.59.51 0 1.02-.2 1.41-.59l7.78-7.78 2.81-2.81c.8-.78.8-2.07 0-2.86zM5.41 20L4 18.59l7.72-7.72 1.47 1.35L5.41 20z\"/>\n",
              "  </svg>\n",
              "      </button>\n",
              "      \n",
              "  <style>\n",
              "    .colab-df-container {\n",
              "      display:flex;\n",
              "      flex-wrap:wrap;\n",
              "      gap: 12px;\n",
              "    }\n",
              "\n",
              "    .colab-df-convert {\n",
              "      background-color: #E8F0FE;\n",
              "      border: none;\n",
              "      border-radius: 50%;\n",
              "      cursor: pointer;\n",
              "      display: none;\n",
              "      fill: #1967D2;\n",
              "      height: 32px;\n",
              "      padding: 0 0 0 0;\n",
              "      width: 32px;\n",
              "    }\n",
              "\n",
              "    .colab-df-convert:hover {\n",
              "      background-color: #E2EBFA;\n",
              "      box-shadow: 0px 1px 2px rgba(60, 64, 67, 0.3), 0px 1px 3px 1px rgba(60, 64, 67, 0.15);\n",
              "      fill: #174EA6;\n",
              "    }\n",
              "\n",
              "    [theme=dark] .colab-df-convert {\n",
              "      background-color: #3B4455;\n",
              "      fill: #D2E3FC;\n",
              "    }\n",
              "\n",
              "    [theme=dark] .colab-df-convert:hover {\n",
              "      background-color: #434B5C;\n",
              "      box-shadow: 0px 1px 3px 1px rgba(0, 0, 0, 0.15);\n",
              "      filter: drop-shadow(0px 1px 2px rgba(0, 0, 0, 0.3));\n",
              "      fill: #FFFFFF;\n",
              "    }\n",
              "  </style>\n",
              "\n",
              "      <script>\n",
              "        const buttonEl =\n",
              "          document.querySelector('#df-4ba40780-a4c4-48e6-8e6f-2b98634b4aa3 button.colab-df-convert');\n",
              "        buttonEl.style.display =\n",
              "          google.colab.kernel.accessAllowed ? 'block' : 'none';\n",
              "\n",
              "        async function convertToInteractive(key) {\n",
              "          const element = document.querySelector('#df-4ba40780-a4c4-48e6-8e6f-2b98634b4aa3');\n",
              "          const dataTable =\n",
              "            await google.colab.kernel.invokeFunction('convertToInteractive',\n",
              "                                                     [key], {});\n",
              "          if (!dataTable) return;\n",
              "\n",
              "          const docLinkHtml = 'Like what you see? Visit the ' +\n",
              "            '<a target=\"_blank\" href=https://colab.research.google.com/notebooks/data_table.ipynb>data table notebook</a>'\n",
              "            + ' to learn more about interactive tables.';\n",
              "          element.innerHTML = '';\n",
              "          dataTable['output_type'] = 'display_data';\n",
              "          await google.colab.output.renderOutput(dataTable, element);\n",
              "          const docLink = document.createElement('div');\n",
              "          docLink.innerHTML = docLinkHtml;\n",
              "          element.appendChild(docLink);\n",
              "        }\n",
              "      </script>\n",
              "    </div>\n",
              "  </div>\n",
              "  "
            ],
            "text/plain": [
              "                                       params  ...  std_test_score\n",
              "kernel                                         ...                \n",
              "0.5_False  {'C': 0.5, 'fit_intercept': False}  ...        0.012294\n",
              "0.1_False  {'C': 0.1, 'fit_intercept': False}  ...        0.015851\n",
              "1_False      {'C': 1, 'fit_intercept': False}  ...        0.007898\n",
              "0.5_True    {'C': 0.5, 'fit_intercept': True}  ...        0.008892\n",
              "1_True        {'C': 1, 'fit_intercept': True}  ...        0.010425\n",
              "0.1_True    {'C': 0.1, 'fit_intercept': True}  ...        0.018997\n",
              "\n",
              "[6 rows x 4 columns]"
            ]
          },
          "metadata": {},
          "execution_count": 35
        }
      ]
    },
    {
      "cell_type": "code",
      "source": [
        "#train the svc\n",
        "svc_grid_params = {'C': (1, 10, 15), 'kernel': ('rbf', 'linear')}\n",
        "\n",
        "svc_clf = SVC(random_state= 123)\n",
        "svc = GridSearchCV(svc_clf, svc_grid_params, n_jobs= -1, cv = 5, scoring = 'f1')\n",
        "svc.fit(x_train, y_train.values.ravel())\n",
        "\n",
        "y_train_svc = svc.predict(x_train)\n",
        "y_val_svc = svc.predict(x_val)\n",
        "print(f\"Best parameters for SVM are: {svc.best_params_}\\n\")\n",
        "\n",
        "f1_score_svc = f1_score(y_val, y_val_svc, average = 'macro')\n",
        "print(f\"F1 score for this training set using best parameters: {f1_score(y_train, y_train_svc, average = 'macro')}\")\n",
        "print(f\"F1 score for this validation set using best parameters: {f1_score_svc}\\n\")\n",
        "\n",
        "results_df = pd.DataFrame(svc.cv_results_)\n",
        "results_df = results_df.sort_values(by=[\"rank_test_score\"])\n",
        "results_df = results_df.set_index(results_df[\"params\"].apply(lambda x: \"_\".join(str(val) for val in x.values()))).rename_axis(\"kernel\")\n",
        "results_df[[\"params\", \"rank_test_score\", \"mean_test_score\", \"std_test_score\"]]"
      ],
      "metadata": {
        "id": "83zsNpFnCDJe",
        "colab": {
          "base_uri": "https://localhost:8080/",
          "height": 356
        },
        "outputId": "efc8fcb7-8cbf-488e-8d04-c2e7eda7466c"
      },
      "execution_count": null,
      "outputs": [
        {
          "output_type": "stream",
          "name": "stdout",
          "text": [
            "Best parameters for SVM are: {'C': 1, 'kernel': 'rbf'}\n",
            "\n",
            "F1 score for this training set using best parameters: 0.9242323402892634\n",
            "F1 score for this validation set using best parameters: 0.8035332378281859\n",
            "\n"
          ]
        },
        {
          "output_type": "execute_result",
          "data": {
            "text/html": [
              "\n",
              "  <div id=\"df-873facb8-acd9-45da-a436-8d8bb95d95ed\">\n",
              "    <div class=\"colab-df-container\">\n",
              "      <div>\n",
              "<style scoped>\n",
              "    .dataframe tbody tr th:only-of-type {\n",
              "        vertical-align: middle;\n",
              "    }\n",
              "\n",
              "    .dataframe tbody tr th {\n",
              "        vertical-align: top;\n",
              "    }\n",
              "\n",
              "    .dataframe thead th {\n",
              "        text-align: right;\n",
              "    }\n",
              "</style>\n",
              "<table border=\"1\" class=\"dataframe\">\n",
              "  <thead>\n",
              "    <tr style=\"text-align: right;\">\n",
              "      <th></th>\n",
              "      <th>params</th>\n",
              "      <th>rank_test_score</th>\n",
              "      <th>mean_test_score</th>\n",
              "      <th>std_test_score</th>\n",
              "    </tr>\n",
              "    <tr>\n",
              "      <th>kernel</th>\n",
              "      <th></th>\n",
              "      <th></th>\n",
              "      <th></th>\n",
              "      <th></th>\n",
              "    </tr>\n",
              "  </thead>\n",
              "  <tbody>\n",
              "    <tr>\n",
              "      <th>1_rbf</th>\n",
              "      <td>{'C': 1, 'kernel': 'rbf'}</td>\n",
              "      <td>1</td>\n",
              "      <td>0.735038</td>\n",
              "      <td>0.017887</td>\n",
              "    </tr>\n",
              "    <tr>\n",
              "      <th>10_rbf</th>\n",
              "      <td>{'C': 10, 'kernel': 'rbf'}</td>\n",
              "      <td>2</td>\n",
              "      <td>0.724730</td>\n",
              "      <td>0.011197</td>\n",
              "    </tr>\n",
              "    <tr>\n",
              "      <th>15_rbf</th>\n",
              "      <td>{'C': 15, 'kernel': 'rbf'}</td>\n",
              "      <td>3</td>\n",
              "      <td>0.722317</td>\n",
              "      <td>0.010555</td>\n",
              "    </tr>\n",
              "    <tr>\n",
              "      <th>1_linear</th>\n",
              "      <td>{'C': 1, 'kernel': 'linear'}</td>\n",
              "      <td>4</td>\n",
              "      <td>0.713529</td>\n",
              "      <td>0.009690</td>\n",
              "    </tr>\n",
              "    <tr>\n",
              "      <th>10_linear</th>\n",
              "      <td>{'C': 10, 'kernel': 'linear'}</td>\n",
              "      <td>5</td>\n",
              "      <td>0.697467</td>\n",
              "      <td>0.012981</td>\n",
              "    </tr>\n",
              "    <tr>\n",
              "      <th>15_linear</th>\n",
              "      <td>{'C': 15, 'kernel': 'linear'}</td>\n",
              "      <td>6</td>\n",
              "      <td>0.694135</td>\n",
              "      <td>0.013091</td>\n",
              "    </tr>\n",
              "  </tbody>\n",
              "</table>\n",
              "</div>\n",
              "      <button class=\"colab-df-convert\" onclick=\"convertToInteractive('df-873facb8-acd9-45da-a436-8d8bb95d95ed')\"\n",
              "              title=\"Convert this dataframe to an interactive table.\"\n",
              "              style=\"display:none;\">\n",
              "        \n",
              "  <svg xmlns=\"http://www.w3.org/2000/svg\" height=\"24px\"viewBox=\"0 0 24 24\"\n",
              "       width=\"24px\">\n",
              "    <path d=\"M0 0h24v24H0V0z\" fill=\"none\"/>\n",
              "    <path d=\"M18.56 5.44l.94 2.06.94-2.06 2.06-.94-2.06-.94-.94-2.06-.94 2.06-2.06.94zm-11 1L8.5 8.5l.94-2.06 2.06-.94-2.06-.94L8.5 2.5l-.94 2.06-2.06.94zm10 10l.94 2.06.94-2.06 2.06-.94-2.06-.94-.94-2.06-.94 2.06-2.06.94z\"/><path d=\"M17.41 7.96l-1.37-1.37c-.4-.4-.92-.59-1.43-.59-.52 0-1.04.2-1.43.59L10.3 9.45l-7.72 7.72c-.78.78-.78 2.05 0 2.83L4 21.41c.39.39.9.59 1.41.59.51 0 1.02-.2 1.41-.59l7.78-7.78 2.81-2.81c.8-.78.8-2.07 0-2.86zM5.41 20L4 18.59l7.72-7.72 1.47 1.35L5.41 20z\"/>\n",
              "  </svg>\n",
              "      </button>\n",
              "      \n",
              "  <style>\n",
              "    .colab-df-container {\n",
              "      display:flex;\n",
              "      flex-wrap:wrap;\n",
              "      gap: 12px;\n",
              "    }\n",
              "\n",
              "    .colab-df-convert {\n",
              "      background-color: #E8F0FE;\n",
              "      border: none;\n",
              "      border-radius: 50%;\n",
              "      cursor: pointer;\n",
              "      display: none;\n",
              "      fill: #1967D2;\n",
              "      height: 32px;\n",
              "      padding: 0 0 0 0;\n",
              "      width: 32px;\n",
              "    }\n",
              "\n",
              "    .colab-df-convert:hover {\n",
              "      background-color: #E2EBFA;\n",
              "      box-shadow: 0px 1px 2px rgba(60, 64, 67, 0.3), 0px 1px 3px 1px rgba(60, 64, 67, 0.15);\n",
              "      fill: #174EA6;\n",
              "    }\n",
              "\n",
              "    [theme=dark] .colab-df-convert {\n",
              "      background-color: #3B4455;\n",
              "      fill: #D2E3FC;\n",
              "    }\n",
              "\n",
              "    [theme=dark] .colab-df-convert:hover {\n",
              "      background-color: #434B5C;\n",
              "      box-shadow: 0px 1px 3px 1px rgba(0, 0, 0, 0.15);\n",
              "      filter: drop-shadow(0px 1px 2px rgba(0, 0, 0, 0.3));\n",
              "      fill: #FFFFFF;\n",
              "    }\n",
              "  </style>\n",
              "\n",
              "      <script>\n",
              "        const buttonEl =\n",
              "          document.querySelector('#df-873facb8-acd9-45da-a436-8d8bb95d95ed button.colab-df-convert');\n",
              "        buttonEl.style.display =\n",
              "          google.colab.kernel.accessAllowed ? 'block' : 'none';\n",
              "\n",
              "        async function convertToInteractive(key) {\n",
              "          const element = document.querySelector('#df-873facb8-acd9-45da-a436-8d8bb95d95ed');\n",
              "          const dataTable =\n",
              "            await google.colab.kernel.invokeFunction('convertToInteractive',\n",
              "                                                     [key], {});\n",
              "          if (!dataTable) return;\n",
              "\n",
              "          const docLinkHtml = 'Like what you see? Visit the ' +\n",
              "            '<a target=\"_blank\" href=https://colab.research.google.com/notebooks/data_table.ipynb>data table notebook</a>'\n",
              "            + ' to learn more about interactive tables.';\n",
              "          element.innerHTML = '';\n",
              "          dataTable['output_type'] = 'display_data';\n",
              "          await google.colab.output.renderOutput(dataTable, element);\n",
              "          const docLink = document.createElement('div');\n",
              "          docLink.innerHTML = docLinkHtml;\n",
              "          element.appendChild(docLink);\n",
              "        }\n",
              "      </script>\n",
              "    </div>\n",
              "  </div>\n",
              "  "
            ],
            "text/plain": [
              "                                  params  ...  std_test_score\n",
              "kernel                                    ...                \n",
              "1_rbf          {'C': 1, 'kernel': 'rbf'}  ...        0.017887\n",
              "10_rbf        {'C': 10, 'kernel': 'rbf'}  ...        0.011197\n",
              "15_rbf        {'C': 15, 'kernel': 'rbf'}  ...        0.010555\n",
              "1_linear    {'C': 1, 'kernel': 'linear'}  ...        0.009690\n",
              "10_linear  {'C': 10, 'kernel': 'linear'}  ...        0.012981\n",
              "15_linear  {'C': 15, 'kernel': 'linear'}  ...        0.013091\n",
              "\n",
              "[6 rows x 4 columns]"
            ]
          },
          "metadata": {},
          "execution_count": 36
        }
      ]
    },
    {
      "cell_type": "code",
      "source": [
        "#train the random forest\n",
        "rf_grid_params = {\n",
        "    'n_estimators': (50, 100, 200),\n",
        "    'criterion': ['entropy'],\n",
        "    'max_depth': (None, 50),\n",
        "}\n",
        "\n",
        "rf_clf = RandomForestClassifier(random_state= 123)\n",
        "rf = GridSearchCV(rf_clf, rf_grid_params, n_jobs= -1, cv = 5)\n",
        "rf.fit(x_train, y_train.values.ravel())\n",
        "\n",
        "y_train_pred_rf = rf.predict(x_train)\n",
        "y_val_pred_rf = rf.predict(x_val)\n",
        "\n",
        "print(f\"Best parameters for Random forest are: {rf.best_params_}\\n\")\n",
        "f1_score_rf = f1_score(y_val, y_val_pred_rf, average = 'macro')\n",
        "print(f\"F1 score for this training set using best parameters:{f1_score(y_train, y_train_pred_rf, average = 'macro'):.4f}\")\n",
        "print(f\"F1 score for this validation set using best parameters:{f1_score_rf}\")\n",
        "\n",
        "results_df = pd.DataFrame(rf.cv_results_)\n",
        "results_df = results_df.sort_values(by=[\"rank_test_score\"])\n",
        "results_df = results_df.set_index(results_df[\"params\"].apply(lambda x: \"_\".join(str(val) for val in x.values()))).rename_axis(\"kernel\")\n",
        "results_df[[\"params\", \"rank_test_score\", \"mean_test_score\", \"std_test_score\"]]"
      ],
      "metadata": {
        "colab": {
          "base_uri": "https://localhost:8080/",
          "height": 338
        },
        "id": "NUL0X_N44Av1",
        "outputId": "224413ad-2731-4ef6-8a43-eebb865f89c8"
      },
      "execution_count": null,
      "outputs": [
        {
          "output_type": "stream",
          "name": "stdout",
          "text": [
            "Best parameters for Random forest are: {'criterion': 'entropy', 'max_depth': None, 'n_estimators': 200}\n",
            "\n",
            "F1 score for this training set using best parameters:0.9841\n",
            "F1 score for this validation set using best parameters:0.7608516439397454\n"
          ]
        },
        {
          "output_type": "execute_result",
          "data": {
            "text/html": [
              "\n",
              "  <div id=\"df-1a67a35b-a92f-48ae-b5ae-daed25ef304b\">\n",
              "    <div class=\"colab-df-container\">\n",
              "      <div>\n",
              "<style scoped>\n",
              "    .dataframe tbody tr th:only-of-type {\n",
              "        vertical-align: middle;\n",
              "    }\n",
              "\n",
              "    .dataframe tbody tr th {\n",
              "        vertical-align: top;\n",
              "    }\n",
              "\n",
              "    .dataframe thead th {\n",
              "        text-align: right;\n",
              "    }\n",
              "</style>\n",
              "<table border=\"1\" class=\"dataframe\">\n",
              "  <thead>\n",
              "    <tr style=\"text-align: right;\">\n",
              "      <th></th>\n",
              "      <th>params</th>\n",
              "      <th>rank_test_score</th>\n",
              "      <th>mean_test_score</th>\n",
              "      <th>std_test_score</th>\n",
              "    </tr>\n",
              "    <tr>\n",
              "      <th>kernel</th>\n",
              "      <th></th>\n",
              "      <th></th>\n",
              "      <th></th>\n",
              "      <th></th>\n",
              "    </tr>\n",
              "  </thead>\n",
              "  <tbody>\n",
              "    <tr>\n",
              "      <th>entropy_None_200</th>\n",
              "      <td>{'criterion': 'entropy', 'max_depth': None, 'n...</td>\n",
              "      <td>1</td>\n",
              "      <td>0.777504</td>\n",
              "      <td>0.007561</td>\n",
              "    </tr>\n",
              "    <tr>\n",
              "      <th>entropy_None_100</th>\n",
              "      <td>{'criterion': 'entropy', 'max_depth': None, 'n...</td>\n",
              "      <td>2</td>\n",
              "      <td>0.777176</td>\n",
              "      <td>0.009355</td>\n",
              "    </tr>\n",
              "    <tr>\n",
              "      <th>entropy_None_50</th>\n",
              "      <td>{'criterion': 'entropy', 'max_depth': None, 'n...</td>\n",
              "      <td>3</td>\n",
              "      <td>0.776683</td>\n",
              "      <td>0.009742</td>\n",
              "    </tr>\n",
              "    <tr>\n",
              "      <th>entropy_50_200</th>\n",
              "      <td>{'criterion': 'entropy', 'max_depth': 50, 'n_e...</td>\n",
              "      <td>4</td>\n",
              "      <td>0.757800</td>\n",
              "      <td>0.015157</td>\n",
              "    </tr>\n",
              "    <tr>\n",
              "      <th>entropy_50_50</th>\n",
              "      <td>{'criterion': 'entropy', 'max_depth': 50, 'n_e...</td>\n",
              "      <td>5</td>\n",
              "      <td>0.757800</td>\n",
              "      <td>0.014659</td>\n",
              "    </tr>\n",
              "    <tr>\n",
              "      <th>entropy_50_100</th>\n",
              "      <td>{'criterion': 'entropy', 'max_depth': 50, 'n_e...</td>\n",
              "      <td>6</td>\n",
              "      <td>0.755665</td>\n",
              "      <td>0.016252</td>\n",
              "    </tr>\n",
              "  </tbody>\n",
              "</table>\n",
              "</div>\n",
              "      <button class=\"colab-df-convert\" onclick=\"convertToInteractive('df-1a67a35b-a92f-48ae-b5ae-daed25ef304b')\"\n",
              "              title=\"Convert this dataframe to an interactive table.\"\n",
              "              style=\"display:none;\">\n",
              "        \n",
              "  <svg xmlns=\"http://www.w3.org/2000/svg\" height=\"24px\"viewBox=\"0 0 24 24\"\n",
              "       width=\"24px\">\n",
              "    <path d=\"M0 0h24v24H0V0z\" fill=\"none\"/>\n",
              "    <path d=\"M18.56 5.44l.94 2.06.94-2.06 2.06-.94-2.06-.94-.94-2.06-.94 2.06-2.06.94zm-11 1L8.5 8.5l.94-2.06 2.06-.94-2.06-.94L8.5 2.5l-.94 2.06-2.06.94zm10 10l.94 2.06.94-2.06 2.06-.94-2.06-.94-.94-2.06-.94 2.06-2.06.94z\"/><path d=\"M17.41 7.96l-1.37-1.37c-.4-.4-.92-.59-1.43-.59-.52 0-1.04.2-1.43.59L10.3 9.45l-7.72 7.72c-.78.78-.78 2.05 0 2.83L4 21.41c.39.39.9.59 1.41.59.51 0 1.02-.2 1.41-.59l7.78-7.78 2.81-2.81c.8-.78.8-2.07 0-2.86zM5.41 20L4 18.59l7.72-7.72 1.47 1.35L5.41 20z\"/>\n",
              "  </svg>\n",
              "      </button>\n",
              "      \n",
              "  <style>\n",
              "    .colab-df-container {\n",
              "      display:flex;\n",
              "      flex-wrap:wrap;\n",
              "      gap: 12px;\n",
              "    }\n",
              "\n",
              "    .colab-df-convert {\n",
              "      background-color: #E8F0FE;\n",
              "      border: none;\n",
              "      border-radius: 50%;\n",
              "      cursor: pointer;\n",
              "      display: none;\n",
              "      fill: #1967D2;\n",
              "      height: 32px;\n",
              "      padding: 0 0 0 0;\n",
              "      width: 32px;\n",
              "    }\n",
              "\n",
              "    .colab-df-convert:hover {\n",
              "      background-color: #E2EBFA;\n",
              "      box-shadow: 0px 1px 2px rgba(60, 64, 67, 0.3), 0px 1px 3px 1px rgba(60, 64, 67, 0.15);\n",
              "      fill: #174EA6;\n",
              "    }\n",
              "\n",
              "    [theme=dark] .colab-df-convert {\n",
              "      background-color: #3B4455;\n",
              "      fill: #D2E3FC;\n",
              "    }\n",
              "\n",
              "    [theme=dark] .colab-df-convert:hover {\n",
              "      background-color: #434B5C;\n",
              "      box-shadow: 0px 1px 3px 1px rgba(0, 0, 0, 0.15);\n",
              "      filter: drop-shadow(0px 1px 2px rgba(0, 0, 0, 0.3));\n",
              "      fill: #FFFFFF;\n",
              "    }\n",
              "  </style>\n",
              "\n",
              "      <script>\n",
              "        const buttonEl =\n",
              "          document.querySelector('#df-1a67a35b-a92f-48ae-b5ae-daed25ef304b button.colab-df-convert');\n",
              "        buttonEl.style.display =\n",
              "          google.colab.kernel.accessAllowed ? 'block' : 'none';\n",
              "\n",
              "        async function convertToInteractive(key) {\n",
              "          const element = document.querySelector('#df-1a67a35b-a92f-48ae-b5ae-daed25ef304b');\n",
              "          const dataTable =\n",
              "            await google.colab.kernel.invokeFunction('convertToInteractive',\n",
              "                                                     [key], {});\n",
              "          if (!dataTable) return;\n",
              "\n",
              "          const docLinkHtml = 'Like what you see? Visit the ' +\n",
              "            '<a target=\"_blank\" href=https://colab.research.google.com/notebooks/data_table.ipynb>data table notebook</a>'\n",
              "            + ' to learn more about interactive tables.';\n",
              "          element.innerHTML = '';\n",
              "          dataTable['output_type'] = 'display_data';\n",
              "          await google.colab.output.renderOutput(dataTable, element);\n",
              "          const docLink = document.createElement('div');\n",
              "          docLink.innerHTML = docLinkHtml;\n",
              "          element.appendChild(docLink);\n",
              "        }\n",
              "      </script>\n",
              "    </div>\n",
              "  </div>\n",
              "  "
            ],
            "text/plain": [
              "                                                             params  ...  std_test_score\n",
              "kernel                                                               ...                \n",
              "entropy_None_200  {'criterion': 'entropy', 'max_depth': None, 'n...  ...        0.007561\n",
              "entropy_None_100  {'criterion': 'entropy', 'max_depth': None, 'n...  ...        0.009355\n",
              "entropy_None_50   {'criterion': 'entropy', 'max_depth': None, 'n...  ...        0.009742\n",
              "entropy_50_200    {'criterion': 'entropy', 'max_depth': 50, 'n_e...  ...        0.015157\n",
              "entropy_50_50     {'criterion': 'entropy', 'max_depth': 50, 'n_e...  ...        0.014659\n",
              "entropy_50_100    {'criterion': 'entropy', 'max_depth': 50, 'n_e...  ...        0.016252\n",
              "\n",
              "[6 rows x 4 columns]"
            ]
          },
          "metadata": {},
          "execution_count": 37
        }
      ]
    },
    {
      "cell_type": "code",
      "source": [
        "#define a scaler\n",
        "scalerSS = StandardScaler(with_mean=False)\n",
        "scalerSS.fit(x_train)\n",
        "X_train_sclss = scalerSS.transform(x_train)\n",
        "X_val_sclss = scalerSS.transform(x_val)\n",
        "\n",
        "X_train_sclss = X_train_sclss.toarray()\n",
        "\n",
        "# Configuration options\n",
        "feature_vector_length = X_train_sclss.shape[1] #how many features\n",
        "num_classes = 2 #how many classes\n",
        "print(f\"Training set has {feature_vector_length} features\")\n",
        "print(f\"There are {num_classes} possible classes to predict\")\n",
        "\n",
        "#categorization\n",
        "y_train_cat = to_categorical(y_train, num_classes)\n",
        "y_val_cat = to_categorical(y_val, num_classes)\n",
        "\n"
      ],
      "metadata": {
        "id": "eCanofJN1Yu7",
        "colab": {
          "base_uri": "https://localhost:8080/"
        },
        "outputId": "a086d931-7f13-4e36-a187-54149d6c7ce4"
      },
      "execution_count": null,
      "outputs": [
        {
          "output_type": "stream",
          "name": "stdout",
          "text": [
            "Training set has 2000 features\n",
            "There are 2 possible classes to predict\n"
          ]
        }
      ]
    },
    {
      "cell_type": "code",
      "source": [
        "def MLP_definer(n_layers):\n",
        "    #seed\n",
        "    np.random.seed(123)\n",
        "    set_random_seed(2)\n",
        "    \n",
        "    #define a sequential model\n",
        "    model = Sequential()\n",
        "\n",
        "    #define the first layer \n",
        "    for i in range(n_layers+1):\n",
        "        if i == 0: #input layer\n",
        "            model.add(Dense(units = feature_vector_length, input_dim = feature_vector_length, activation='relu'))\n",
        "        else:\n",
        "            model.add(Dense(units = (feature_vector_length*2)/3, activation = 'relu'))\n",
        "\n",
        "    model.add(Dense(units = 2, activation= 'sigmoid'))\n",
        "\n",
        "\n",
        "    # Configure the model and start training\n",
        "    model.compile(loss='binary_crossentropy', #loss metric\n",
        "              optimizer='sgd',  #optimizer\n",
        "              metrics=['accuracy']) #displayed metric\n",
        "\n",
        "    return model"
      ],
      "metadata": {
        "id": "DvcYvGuVwioK"
      },
      "execution_count": null,
      "outputs": []
    },
    {
      "cell_type": "code",
      "source": [
        "nlayers = [0, 1]\n",
        "\n",
        "# simple early stopping\n",
        "es = EarlyStopping(monitor='val_loss', #quantity to be monitored\n",
        "                   mode='min', #we look for decreasing patterns stop \n",
        "                   patience = 3, #number of epochs with no improvement\n",
        "                   verbose=1)\n",
        "best = 0\n",
        "for nl in nlayers:\n",
        "    #create the MLP\n",
        "    m = MLP_definer(n_layers= nl)\n",
        "    print(m.summary())\n",
        "\n",
        "    # train our model\n",
        "    h = m.fit(X_train_sclss, y_train_cat, epochs=500, \n",
        "                       batch_size = 256, verbose=0, validation_split = 0.1, \n",
        "                       callbacks = [es])\n",
        "    \n",
        "    y_train_nn = m.predict(X_train_sclss).argmax(axis = 1) \n",
        "    y_val_nn = m.predict(X_val_sclss).argmax(axis = 1)\n",
        "    print(f\"N layers:{nl}:\\nNN.\\tTrain:{f1_score(y_train, y_train_nn, average = 'macro'):.4f}\\tVal:{f1_score(y_val, y_val_nn, average = 'macro'):.4f}\")\n",
        "\n",
        "    if f1_score(y_val, y_val_nn, average = 'macro') >= best:\n",
        "      best = f1_score(y_val, y_val_nn, average = 'macro')\n",
        "      best_train = f1_score(y_train, y_train_nn, average = 'macro')\n",
        "      n_layers_best = nl\n",
        "      best_fitted = h\n",
        "print()\n",
        "print(f\"\\nThe best NN model has {n_layers_best} hidden layers.\")\n",
        "print(f\"F1 score on training set using the best model gives {best_train} \")\n",
        "print(f\"F1 score on validation set using the best model gives {best} \")\n"
      ],
      "metadata": {
        "colab": {
          "base_uri": "https://localhost:8080/"
        },
        "id": "x1tsseyKp5t2",
        "outputId": "05aa4614-4919-4fc2-fb09-2433f996f9d2"
      },
      "execution_count": null,
      "outputs": [
        {
          "output_type": "stream",
          "name": "stdout",
          "text": [
            "Model: \"sequential_3\"\n",
            "_________________________________________________________________\n",
            " Layer (type)                Output Shape              Param #   \n",
            "=================================================================\n",
            " dense_8 (Dense)             (None, 2000)              4002000   \n",
            "                                                                 \n",
            " dense_9 (Dense)             (None, 2)                 4002      \n",
            "                                                                 \n",
            "=================================================================\n",
            "Total params: 4,006,002\n",
            "Trainable params: 4,006,002\n",
            "Non-trainable params: 0\n",
            "_________________________________________________________________\n",
            "None\n",
            "Epoch 00048: early stopping\n",
            "N layers:0:\n",
            "NN.\tTrain:0.9108\tVal:0.7802\n",
            "Model: \"sequential_4\"\n",
            "_________________________________________________________________\n",
            " Layer (type)                Output Shape              Param #   \n",
            "=================================================================\n",
            " dense_10 (Dense)            (None, 2000)              4002000   \n",
            "                                                                 \n",
            " dense_11 (Dense)            (None, 1333)              2667333   \n",
            "                                                                 \n",
            " dense_12 (Dense)            (None, 2)                 2668      \n",
            "                                                                 \n",
            "=================================================================\n",
            "Total params: 6,672,001\n",
            "Trainable params: 6,672,001\n",
            "Non-trainable params: 0\n",
            "_________________________________________________________________\n",
            "None\n",
            "Epoch 00036: early stopping\n",
            "N layers:1:\n",
            "NN.\tTrain:0.9180\tVal:0.7754\n",
            "\n",
            "\n",
            "The best NN model has 0 hidden layers.\n",
            "F1 score on training set using the best model gives 0.9108082846529183 \n",
            "F1 score on validation set using the best model gives 0.7801995545657017 \n"
          ]
        }
      ]
    },
    {
      "cell_type": "code",
      "source": [
        "# summarize history for accuracy\n",
        "plt.plot(best_fitted.history['accuracy'])\n",
        "plt.plot(best_fitted.history['val_accuracy'])\n",
        "plt.title('model accuracy')\n",
        "plt.ylabel('accuracy')\n",
        "plt.xlabel('epoch')\n",
        "plt.legend(['train', 'val'], loc='upper left')\n",
        "plt.show()\n",
        "\n",
        "\n",
        "# summarize history for loss\n",
        "plt.plot(best_fitted.history['loss'])\n",
        "plt.plot(best_fitted.history['val_loss'])\n",
        "plt.title('model loss')\n",
        "plt.ylabel('loss')\n",
        "plt.xlabel('epoch')\n",
        "plt.legend(['train', 'val'], loc='upper left')\n",
        "plt.show()"
      ],
      "metadata": {
        "colab": {
          "base_uri": "https://localhost:8080/",
          "height": 585
        },
        "id": "tBaj-1ToXL4i",
        "outputId": "ddda2162-32bb-4cf3-f7c5-1a137b984729"
      },
      "execution_count": null,
      "outputs": [
        {
          "output_type": "display_data",
          "data": {
            "image/png": "[encoded data removed]",
            "text/plain": [
              "<Figure size 432x288 with 1 Axes>"
            ]
          },
          "metadata": {}
        },
        {
          "output_type": "display_data",
          "data": {
            "image/png": "[encoded data removed]",
            "text/plain": [
              "<Figure size 432x288 with 1 Axes>"
            ]
          },
          "metadata": {}
        }
      ]
    },
    {
      "cell_type": "code",
      "source": [
        "labels= [\"Negative\", \"Positive\"]\n",
        "cm = confusion_matrix(y_val, y_val_nn)\n",
        "\n",
        "fig, ax = plt.subplots(figsize=(10, 8))\n",
        "sns.heatmap(cm, annot=True, fmt=\"g\", ax=ax)\n",
        "plt.xlabel(\"Predicted Labels\")\n",
        "plt.ylabel(\"Actual Labels\")\n",
        "plt.title(\"Confusion Matrix\", size=20, weight=\"bold\")\n",
        "plt.yticks(ticks=[0.5, 1.5], labels=labels)\n",
        "plt.show()"
      ],
      "metadata": {
        "colab": {
          "base_uri": "https://localhost:8080/"
        },
        "id": "dIkydhMp6otr",
        "outputId": "c903233b-2ebb-4fec-c03a-f0544b173534"
      },
      "execution_count": null,
      "outputs": [
        {
          "output_type": "display_data",
          "data": {
            "image/png": "[encoded data removed]",
            "text/plain": [
              "<Figure size 720x576 with 2 Axes>"
            ]
          },
          "metadata": {}
        }
      ]
    },
    {
      "cell_type": "code",
      "source": [
        "fig = plt.figure()\n",
        "ax = fig.add_axes([0,0,1,1])\n",
        "models = ['Logistic regression', 'SVM', 'Random Forest', 'Neural Networks']\n",
        "best_scores = [f1_score_lr, f1_score_svc, f1_score_rf, best]\n",
        "ax.bar(models, best_scores)\n",
        "plt.show()"
      ],
      "metadata": {
        "colab": {
          "base_uri": "https://localhost:8080/"
        },
        "id": "6E5VsZ7YwSO_",
        "outputId": "251532a9-7071-4510-e50d-ec64a8cf77f6"
      },
      "execution_count": null,
      "outputs": [
        {
          "output_type": "display_data",
          "data": {
            "image/png": "[encoded data removed]",
            "text/plain": [
              "<Figure size 432x288 with 1 Axes>"
            ]
          },
          "metadata": {}
        }
      ]
    },
    {
      "cell_type": "code",
      "source": [
        "#define a scaler\n",
        "scaler = StandardScaler(with_mean=False)\n",
        "scaler.fit(X_train_val_count)\n",
        "X_train_scl = scaler.transform(X_train_val_count)\n",
        "X_test_scl = scaler.transform(X_test_count)\n",
        "X_train_scl = X_train_scl.toarray()\n",
        "print(X_train_scl.shape)\n",
        "print(Y_train_val.shape)\n",
        "y_train_cat = to_categorical(Y_train_val, num_classes)\n",
        "print(y_train_cat.shape)\n",
        "print(X_test_scl.shape)"
      ],
      "metadata": {
        "colab": {
          "base_uri": "https://localhost:8080/"
        },
        "id": "GKJVKtTaP168",
        "outputId": "5d2b2324-e9ec-4c56-dec7-ec45961b3d2f"
      },
      "execution_count": null,
      "outputs": [
        {
          "output_type": "stream",
          "name": "stdout",
          "text": [
            "(7613, 2000)\n",
            "(7613, 1)\n",
            "(7613, 2)\n",
            "(3263, 2000)\n"
          ]
        }
      ]
    },
    {
      "cell_type": "code",
      "source": [
        "m = MLP_definer(n_layers = n_layers_best)\n",
        "final = m.fit(X_train_scl, y_train_cat, epochs=500, batch_size=256, verbose=0, validation_split=0.1, callbacks = [es])\n",
        "y_test_pred = m.predict(X_test_scl).argmax(axis = 1) \n",
        "\n"
      ],
      "metadata": {
        "colab": {
          "base_uri": "https://localhost:8080/"
        },
        "id": "zh-pqmlATZlq",
        "outputId": "8903e55a-029f-4f3c-c425-0cbc7fa3c294"
      },
      "execution_count": null,
      "outputs": [
        {
          "output_type": "stream",
          "name": "stdout",
          "text": [
            "Epoch 00046: early stopping\n"
          ]
        }
      ]
    },
    {
      "cell_type": "code",
      "source": [
        "download_predictions_to_file(X_test_id, y_test_pred)"
      ],
      "metadata": {
        "colab": {
          "base_uri": "https://localhost:8080/"
        },
        "id": "qtqU_r6_XcpX",
        "outputId": "c80d46c1-94cd-4ed5-fdb9-c36ec1e71718"
      },
      "execution_count": null,
      "outputs": [
        {
          "output_type": "display_data",
          "data": {
            "application/javascript": [
              "\n",
              "    async function download(id, filename, size) {\n",
              "      if (!google.colab.kernel.accessAllowed) {\n",
              "        return;\n",
              "      }\n",
              "      const div = document.createElement('div');\n",
              "      const label = document.createElement('label');\n",
              "      label.textContent = `Downloading \"${filename}\": `;\n",
              "      div.appendChild(label);\n",
              "      const progress = document.createElement('progress');\n",
              "      progress.max = size;\n",
              "      div.appendChild(progress);\n",
              "      document.body.appendChild(div);\n",
              "\n",
              "      const buffers = [];\n",
              "      let downloaded = 0;\n",
              "\n",
              "      const channel = await google.colab.kernel.comms.open(id);\n",
              "      // Send a message to notify the kernel that we're ready.\n",
              "      channel.send({})\n",
              "\n",
              "      for await (const message of channel.messages) {\n",
              "        // Send a message to notify the kernel that we're ready.\n",
              "        channel.send({})\n",
              "        if (message.buffers) {\n",
              "          for (const buffer of message.buffers) {\n",
              "            buffers.push(buffer);\n",
              "            downloaded += buffer.byteLength;\n",
              "            progress.value = downloaded;\n",
              "          }\n",
              "        }\n",
              "      }\n",
              "      const blob = new Blob(buffers, {type: 'application/binary'});\n",
              "      const a = document.createElement('a');\n",
              "      a.href = window.URL.createObjectURL(blob);\n",
              "      a.download = filename;\n",
              "      div.appendChild(a);\n",
              "      a.click();\n",
              "      div.remove();\n",
              "    }\n",
              "  "
            ],
            "text/plain": [
              "<IPython.core.display.Javascript object>"
            ]
          },
          "metadata": {}
        },
        {
          "output_type": "display_data",
          "data": {
            "application/javascript": [
              "download(\"download_3d37deb0-1a63-46d1-bde6-ee916d72cc2d\", \"prediction_file.csv\", 22746)"
            ],
            "text/plain": [
              "<IPython.core.display.Javascript object>"
            ]
          },
          "metadata": {}
        }
      ]
    }
  ]
}